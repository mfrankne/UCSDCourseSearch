{
 "cells": [
  {
   "cell_type": "code",
   "execution_count": 1,
   "metadata": {},
   "outputs": [],
   "source": [
    "import pandas as pd\n",
    "import numpy as np\n",
    "import time\n",
    "from elasticsearch import Elasticsearch\n",
    "from elasticsearch.helpers import bulk"
   ]
  },
  {
   "cell_type": "markdown",
   "metadata": {},
   "source": [
    "## Step 0: Load Data"
   ]
  },
  {
   "cell_type": "code",
   "execution_count": 9,
   "metadata": {},
   "outputs": [
    {
     "data": {
      "text/html": [
       "<div>\n",
       "<style scoped>\n",
       "    .dataframe tbody tr th:only-of-type {\n",
       "        vertical-align: middle;\n",
       "    }\n",
       "\n",
       "    .dataframe tbody tr th {\n",
       "        vertical-align: top;\n",
       "    }\n",
       "\n",
       "    .dataframe thead th {\n",
       "        text-align: right;\n",
       "    }\n",
       "</style>\n",
       "<table border=\"1\" class=\"dataframe\">\n",
       "  <thead>\n",
       "    <tr style=\"text-align: right;\">\n",
       "      <th></th>\n",
       "      <th>Code</th>\n",
       "      <th>Department</th>\n",
       "      <th>Title</th>\n",
       "      <th>Units</th>\n",
       "      <th>Description</th>\n",
       "      <th>Prerequisites</th>\n",
       "      <th>Level</th>\n",
       "      <th>URL</th>\n",
       "    </tr>\n",
       "  </thead>\n",
       "  <tbody>\n",
       "    <tr>\n",
       "      <th>0</th>\n",
       "      <td>AIP 97</td>\n",
       "      <td>AIP</td>\n",
       "      <td>Academic Internship</td>\n",
       "      <td>2, 4</td>\n",
       "      <td>Individual placements for field learning. Must...</td>\n",
       "      <td>lower-division standing, completion of thirty ...</td>\n",
       "      <td>Lower Division</td>\n",
       "      <td>https://cape.ucsd.edu/responses/Results.aspx?N...</td>\n",
       "    </tr>\n",
       "    <tr>\n",
       "      <th>1</th>\n",
       "      <td>AIP 197</td>\n",
       "      <td>AIP</td>\n",
       "      <td>Academic Internship Program</td>\n",
       "      <td>2, 4, 6, 8, 10, 12</td>\n",
       "      <td>Individual internship placements integrated wi...</td>\n",
       "      <td>upper-division standing; department approval.</td>\n",
       "      <td>Upper Division</td>\n",
       "      <td>https://cape.ucsd.edu/responses/Results.aspx?N...</td>\n",
       "    </tr>\n",
       "    <tr>\n",
       "      <th>2</th>\n",
       "      <td>AIP 197DC</td>\n",
       "      <td>AIP</td>\n",
       "      <td>UCDC: Washington, DC Internship</td>\n",
       "      <td>6, 8, 10</td>\n",
       "      <td>This internship is attached to the University ...</td>\n",
       "      <td>upper-division standing; department approval.</td>\n",
       "      <td>Upper Division</td>\n",
       "      <td>https://cape.ucsd.edu/responses/Results.aspx?N...</td>\n",
       "    </tr>\n",
       "    <tr>\n",
       "      <th>3</th>\n",
       "      <td>AIP 197P</td>\n",
       "      <td>AIP</td>\n",
       "      <td>Public Service Internship</td>\n",
       "      <td>4, 8, 12</td>\n",
       "      <td>Individual placements for field learning perfo...</td>\n",
       "      <td>ninety units completed; 2.5 minimum cumulative...</td>\n",
       "      <td>Upper Division</td>\n",
       "      <td>https://cape.ucsd.edu/responses/Results.aspx?N...</td>\n",
       "    </tr>\n",
       "    <tr>\n",
       "      <th>4</th>\n",
       "      <td>AIP 197T</td>\n",
       "      <td>AIP</td>\n",
       "      <td>Academic Internship Program—Special Programs</td>\n",
       "      <td>2</td>\n",
       "      <td>Individual placements for field learning assoc...</td>\n",
       "      <td>ninety units minimum completed; 2.5 minimum cu...</td>\n",
       "      <td>Upper Division</td>\n",
       "      <td>https://cape.ucsd.edu/responses/Results.aspx?N...</td>\n",
       "    </tr>\n",
       "  </tbody>\n",
       "</table>\n",
       "</div>"
      ],
      "text/plain": [
       "        Code Department                                         Title  \\\n",
       "0     AIP 97        AIP                           Academic Internship   \n",
       "1    AIP 197        AIP                   Academic Internship Program   \n",
       "2  AIP 197DC        AIP               UCDC: Washington, DC Internship   \n",
       "3   AIP 197P        AIP                     Public Service Internship   \n",
       "4   AIP 197T        AIP  Academic Internship Program—Special Programs   \n",
       "\n",
       "                Units                                        Description  \\\n",
       "0                2, 4  Individual placements for field learning. Must...   \n",
       "1  2, 4, 6, 8, 10, 12  Individual internship placements integrated wi...   \n",
       "2            6, 8, 10  This internship is attached to the University ...   \n",
       "3            4, 8, 12  Individual placements for field learning perfo...   \n",
       "4                   2  Individual placements for field learning assoc...   \n",
       "\n",
       "                                       Prerequisites           Level  \\\n",
       "0  lower-division standing, completion of thirty ...  Lower Division   \n",
       "1      upper-division standing; department approval.  Upper Division   \n",
       "2      upper-division standing; department approval.  Upper Division   \n",
       "3  ninety units completed; 2.5 minimum cumulative...  Upper Division   \n",
       "4  ninety units minimum completed; 2.5 minimum cu...  Upper Division   \n",
       "\n",
       "                                                 URL  \n",
       "0  https://cape.ucsd.edu/responses/Results.aspx?N...  \n",
       "1  https://cape.ucsd.edu/responses/Results.aspx?N...  \n",
       "2  https://cape.ucsd.edu/responses/Results.aspx?N...  \n",
       "3  https://cape.ucsd.edu/responses/Results.aspx?N...  \n",
       "4  https://cape.ucsd.edu/responses/Results.aspx?N...  "
      ]
     },
     "execution_count": 9,
     "metadata": {},
     "output_type": "execute_result"
    }
   ],
   "source": [
    "course_info = pd.read_csv('data/course_catalog.csv')\n",
    "course_info.head()"
   ]
  },
  {
   "cell_type": "code",
   "execution_count": 10,
   "metadata": {},
   "outputs": [],
   "source": [
    "course_info = course_info.astype(str)\n",
    "course_info = course_info.drop_duplicates()"
   ]
  },
  {
   "cell_type": "markdown",
   "metadata": {},
   "source": [
    "## Step 1: Set up Elasticsearch"
   ]
  },
  {
   "cell_type": "code",
   "execution_count": 11,
   "metadata": {},
   "outputs": [
    {
     "data": {
      "text/plain": [
       "{'name': '08f217c09854',\n",
       " 'cluster_name': 'docker-cluster',\n",
       " 'cluster_uuid': 'z5t6rmgsShCl67KFk2KefQ',\n",
       " 'version': {'number': '8.7.0',\n",
       "  'build_flavor': 'default',\n",
       "  'build_type': 'docker',\n",
       "  'build_hash': '09520b59b6bc1057340b55750186466ea715e30e',\n",
       "  'build_date': '2023-03-27T16:31:09.816451435Z',\n",
       "  'build_snapshot': False,\n",
       "  'lucene_version': '9.5.0',\n",
       "  'minimum_wire_compatibility_version': '7.17.0',\n",
       "  'minimum_index_compatibility_version': '7.0.0'},\n",
       " 'tagline': 'You Know, for Search'}"
      ]
     },
     "execution_count": 11,
     "metadata": {},
     "output_type": "execute_result"
    }
   ],
   "source": [
    "es = Elasticsearch(\"http://localhost:9200\")\n",
    "es.info()"
   ]
  },
  {
   "cell_type": "code",
   "execution_count": 12,
   "metadata": {},
   "outputs": [],
   "source": [
    "# creating mappings \n",
    "mappings = {\n",
    "    \"properties\": {\n",
    "        'Code': {\"type\": \"text\"}, \n",
    "        'Department': {\"type\": \"text\"}, \n",
    "        'Title': {\"type\": \"text\"}, \n",
    "        'Units': {\"type\": \"text\"}, \n",
    "        'Description': {\"type\": \"text\"}, \n",
    "        'Prerequisites': {\"type\": \"text\"}, \n",
    "    }\n",
    "}"
   ]
  },
  {
   "cell_type": "code",
   "execution_count": 13,
   "metadata": {},
   "outputs": [],
   "source": [
    "try:\n",
    "    es.indices.create(index=\"courses\", mappings=mappings)\n",
    "except:\n",
    "    pass"
   ]
  },
  {
   "cell_type": "markdown",
   "metadata": {},
   "source": [
    "## Step 2: Adding Data into ElasticSearch"
   ]
  },
  {
   "cell_type": "code",
   "execution_count": 14,
   "metadata": {},
   "outputs": [
    {
     "data": {
      "text/plain": [
       "(7169, [])"
      ]
     },
     "execution_count": 14,
     "metadata": {},
     "output_type": "execute_result"
    }
   ],
   "source": [
    "# Creating a list of dictionaries with all the data to be added in to the ElasticSearch index\n",
    "bulk_data = []\n",
    "for i, row in course_info.iterrows():\n",
    "    bulk_data.append(\n",
    "        {\n",
    "            \"_index\": \"courses\",\n",
    "            \"_id\": i,\n",
    "            \"_source\": {\n",
    "                \"Code\": row['Code'],\n",
    "                'Department': row['Department'], \n",
    "                'Title': row['Title'], \n",
    "                'Units': row['Units'], \n",
    "                'Description': row['Description'], \n",
    "                'Prerequisites': row['Prerequisites']\n",
    "            }\n",
    "        }\n",
    "    )\n",
    "\n",
    "bulk(es, bulk_data)"
   ]
  },
  {
   "cell_type": "code",
   "execution_count": 15,
   "metadata": {},
   "outputs": [
    {
     "data": {
      "text/plain": [
       "[{'epoch': '1706418215', 'timestamp': '05:03:35', 'count': '7169'}]"
      ]
     },
     "execution_count": 15,
     "metadata": {},
     "output_type": "execute_result"
    }
   ],
   "source": [
    "# verifying that all data has been read into the python index properly\n",
    "es.indices.refresh(index=\"courses\")\n",
    "es.cat.count(index=\"courses\", format=\"json\")"
   ]
  },
  {
   "cell_type": "markdown",
   "metadata": {},
   "source": [
    "## Step 3: Performing Search"
   ]
  },
  {
   "cell_type": "code",
   "execution_count": 16,
   "metadata": {},
   "outputs": [],
   "source": [
    "def es_search(query, k=10):\n",
    "    \"\"\"\n",
    "    Searches the data using ElasticSearch to find the k most similar documents to the query.\n",
    "    Returns a list of the k most similar functions, along with their GitHub URLs and their similarity scores to the query\n",
    "    \"\"\"\n",
    "\n",
    "    es_query = {\n",
    "        \"query\": {\n",
    "            \"bool\": {\n",
    "                \"must\": {\n",
    "                    \"query_string\": {\n",
    "                        \"query\": query,\n",
    "                        \"fields\": [\n",
    "                            'Code',\n",
    "                            'Department',\n",
    "                            'Title^1.5',\n",
    "                            'Description^2', #boost 2x\n",
    "                            'Prerequisites'\n",
    "                        ],\n",
    "                        \"phrase_slop\": 2  # still considered a match if they are up to two terms apart\n",
    "                    }\n",
    "                },\n",
    "            }\n",
    "        },\n",
    "        \"size\": k\n",
    "    }\n",
    "    \n",
    "    response = es.search(index=\"courses\", body=es_query)\n",
    "    \n",
    "    results = []\n",
    "    # for each result, add the function name, the GitHub URL of the function, and the similarity score to the results list\n",
    "    for hit in response['hits']['hits']:\n",
    "        row = hit['_source']\n",
    "        results.append((row['Code'], row['Title'], hit['_score']))\n",
    "        \n",
    "    return results"
   ]
  },
  {
   "cell_type": "code",
   "execution_count": 22,
   "metadata": {},
   "outputs": [
    {
     "name": "stderr",
     "output_type": "stream",
     "text": [
      "C:\\Users\\tonyt\\AppData\\Local\\Temp/ipykernel_13800/2057325373.py:28: DeprecationWarning: The 'body' parameter is deprecated for the 'search' API and will be removed in a future version. Instead use API parameters directly. See https://github.com/elastic/elasticsearch-py/issues/1698 for more information\n",
      "  response = es.search(index=\"courses\", body=es_query)\n"
     ]
    },
    {
     "data": {
      "text/plain": [
       "[('SIOB 276', 'Quantitative Theory of Populations and Communities', 19.165262),\n",
       " ('MATH 294', 'The Mathematics of Finance', 17.016047),\n",
       " ('ECON 220A', 'Econometrics A', 16.614532),\n",
       " ('MAE 208', 'Mathematics for Engineers', 15.338562),\n",
       " ('ECON 205', 'Mathematics for Economists', 15.333879),\n",
       " ('MATH 20A', 'Calculus for Science and Engineering', 14.663015),\n",
       " ('MATH 10B', 'Calculus II', 14.53306),\n",
       " ('NEUG 240',\n",
       "  'Mathematical Foundations for Computational Neuroscience',\n",
       "  13.986247),\n",
       " ('CSE 273', 'Computational Photography', 13.376045),\n",
       " ('PHYS 110A', 'Mechanics I', 12.993957)]"
      ]
     },
     "execution_count": 22,
     "metadata": {},
     "output_type": "execute_result"
    }
   ],
   "source": [
    "# example\n",
    "es_search('introduction to calculus')"
   ]
  },
  {
   "cell_type": "markdown",
   "metadata": {},
   "source": [
    "## Step 4: Creating a Web Server"
   ]
  },
  {
   "cell_type": "code",
   "execution_count": null,
   "metadata": {},
   "outputs": [],
   "source": [
    "from flask import Flask, request, jsonify\n",
    "app = Flask(__name__)"
   ]
  },
  {
   "cell_type": "code",
   "execution_count": null,
   "metadata": {},
   "outputs": [],
   "source": [
    "def es_search_print(query):\n",
    "    print(query)\n",
    "    return [1, 2, 3, 5]"
   ]
  },
  {
   "cell_type": "code",
   "execution_count": null,
   "metadata": {},
   "outputs": [],
   "source": [
    "@app.route('/search', methods=['POST'])\n",
    "\n",
    "def search():\n",
    "    query = request.json.get('query')\n",
    "    results = es_search(query)\n",
    "    return jsonify(results)\n",
    "\n",
    "if __name__ == '__main__':\n",
    "    app.run(debug=True)"
   ]
  },
  {
   "cell_type": "code",
   "execution_count": 2,
   "metadata": {},
   "outputs": [
    {
     "ename": "SystemExit",
     "evalue": "1",
     "output_type": "error",
     "traceback": [
      "\u001b[1;31m---------------------------------------------------------------------------\u001b[0m",
      "\u001b[1;31mSystemExit\u001b[0m                                Traceback (most recent call last)",
      "Cell \u001b[1;32mIn[1], line 9\u001b[0m\n\u001b[0;32m      6\u001b[0m     \u001b[38;5;28;01mreturn\u001b[39;00m \u001b[38;5;124m'\u001b[39m\u001b[38;5;124mHello, World!\u001b[39m\u001b[38;5;124m'\u001b[39m\n\u001b[0;32m      8\u001b[0m \u001b[38;5;28;01mif\u001b[39;00m \u001b[38;5;18m__name__\u001b[39m \u001b[38;5;241m==\u001b[39m \u001b[38;5;124m'\u001b[39m\u001b[38;5;124m__main__\u001b[39m\u001b[38;5;124m'\u001b[39m:\n\u001b[1;32m----> 9\u001b[0m     app\u001b[38;5;241m.\u001b[39mrun(debug\u001b[38;5;241m=\u001b[39m\u001b[38;5;28;01mTrue\u001b[39;00m)\n",
      "File \u001b[1;32mc:\\Users\\misaf\\anaconda3\\Lib\\site-packages\\flask\\app.py:1188\u001b[0m, in \u001b[0;36mFlask.run\u001b[1;34m(self, host, port, debug, load_dotenv, **options)\u001b[0m\n\u001b[0;32m   1185\u001b[0m \u001b[38;5;28;01mfrom\u001b[39;00m \u001b[38;5;21;01mwerkzeug\u001b[39;00m\u001b[38;5;21;01m.\u001b[39;00m\u001b[38;5;21;01mserving\u001b[39;00m \u001b[38;5;28;01mimport\u001b[39;00m run_simple\n\u001b[0;32m   1187\u001b[0m \u001b[38;5;28;01mtry\u001b[39;00m:\n\u001b[1;32m-> 1188\u001b[0m     run_simple(t\u001b[38;5;241m.\u001b[39mcast(\u001b[38;5;28mstr\u001b[39m, host), port, \u001b[38;5;28mself\u001b[39m, \u001b[38;5;241m*\u001b[39m\u001b[38;5;241m*\u001b[39moptions)\n\u001b[0;32m   1189\u001b[0m \u001b[38;5;28;01mfinally\u001b[39;00m:\n\u001b[0;32m   1190\u001b[0m     \u001b[38;5;66;03m# reset the first request information if the development server\u001b[39;00m\n\u001b[0;32m   1191\u001b[0m     \u001b[38;5;66;03m# reset normally.  This makes it possible to restart the server\u001b[39;00m\n\u001b[0;32m   1192\u001b[0m     \u001b[38;5;66;03m# without reloader and that stuff from an interactive shell.\u001b[39;00m\n\u001b[0;32m   1193\u001b[0m     \u001b[38;5;28mself\u001b[39m\u001b[38;5;241m.\u001b[39m_got_first_request \u001b[38;5;241m=\u001b[39m \u001b[38;5;28;01mFalse\u001b[39;00m\n",
      "File \u001b[1;32mc:\\Users\\misaf\\anaconda3\\Lib\\site-packages\\werkzeug\\serving.py:1059\u001b[0m, in \u001b[0;36mrun_simple\u001b[1;34m(hostname, port, application, use_reloader, use_debugger, use_evalex, extra_files, exclude_patterns, reloader_interval, reloader_type, threaded, processes, request_handler, static_files, passthrough_errors, ssl_context)\u001b[0m\n\u001b[0;32m   1056\u001b[0m \u001b[38;5;28;01mfrom\u001b[39;00m \u001b[38;5;21;01m.\u001b[39;00m\u001b[38;5;21;01m_reloader\u001b[39;00m \u001b[38;5;28;01mimport\u001b[39;00m run_with_reloader\n\u001b[0;32m   1058\u001b[0m \u001b[38;5;28;01mtry\u001b[39;00m:\n\u001b[1;32m-> 1059\u001b[0m     run_with_reloader(\n\u001b[0;32m   1060\u001b[0m         srv\u001b[38;5;241m.\u001b[39mserve_forever,\n\u001b[0;32m   1061\u001b[0m         extra_files\u001b[38;5;241m=\u001b[39mextra_files,\n\u001b[0;32m   1062\u001b[0m         exclude_patterns\u001b[38;5;241m=\u001b[39mexclude_patterns,\n\u001b[0;32m   1063\u001b[0m         interval\u001b[38;5;241m=\u001b[39mreloader_interval,\n\u001b[0;32m   1064\u001b[0m         reloader_type\u001b[38;5;241m=\u001b[39mreloader_type,\n\u001b[0;32m   1065\u001b[0m     )\n\u001b[0;32m   1066\u001b[0m \u001b[38;5;28;01mfinally\u001b[39;00m:\n\u001b[0;32m   1067\u001b[0m     srv\u001b[38;5;241m.\u001b[39mserver_close()\n",
      "File \u001b[1;32mc:\\Users\\misaf\\anaconda3\\Lib\\site-packages\\werkzeug\\_reloader.py:444\u001b[0m, in \u001b[0;36mrun_with_reloader\u001b[1;34m(main_func, extra_files, exclude_patterns, interval, reloader_type)\u001b[0m\n\u001b[0;32m    442\u001b[0m             reloader\u001b[38;5;241m.\u001b[39mrun()\n\u001b[0;32m    443\u001b[0m     \u001b[38;5;28;01melse\u001b[39;00m:\n\u001b[1;32m--> 444\u001b[0m         sys\u001b[38;5;241m.\u001b[39mexit(reloader\u001b[38;5;241m.\u001b[39mrestart_with_reloader())\n\u001b[0;32m    445\u001b[0m \u001b[38;5;28;01mexcept\u001b[39;00m \u001b[38;5;167;01mKeyboardInterrupt\u001b[39;00m:\n\u001b[0;32m    446\u001b[0m     \u001b[38;5;28;01mpass\u001b[39;00m\n",
      "\u001b[1;31mSystemExit\u001b[0m: 1"
     ]
    }
   ],
   "source": [
    "%tb"
   ]
  },
  {
   "cell_type": "code",
   "execution_count": 1,
   "metadata": {},
   "outputs": [
    {
     "name": "stdout",
     "output_type": "stream",
     "text": [
      " * Serving Flask app '__main__'\n",
      " * Debug mode: on\n"
     ]
    },
    {
     "name": "stderr",
     "output_type": "stream",
     "text": [
      "WARNING: This is a development server. Do not use it in a production deployment. Use a production WSGI server instead.\n",
      " * Running on http://127.0.0.1:5000\n",
      "Press CTRL+C to quit\n",
      " * Restarting with watchdog (windowsapi)\n"
     ]
    },
    {
     "ename": "SystemExit",
     "evalue": "1",
     "output_type": "error",
     "traceback": [
      "An exception has occurred, use %tb to see the full traceback.\n",
      "\u001b[1;31mSystemExit\u001b[0m\u001b[1;31m:\u001b[0m 1\n"
     ]
    },
    {
     "name": "stderr",
     "output_type": "stream",
     "text": [
      "c:\\Users\\misaf\\anaconda3\\Lib\\site-packages\\IPython\\core\\interactiveshell.py:3534: UserWarning: To exit: use 'exit', 'quit', or Ctrl-D.\n",
      "  warn(\"To exit: use 'exit', 'quit', or Ctrl-D.\", stacklevel=1)\n"
     ]
    }
   ],
   "source": [
    "from flask import Flask\n",
    "app = Flask(__name__)\n",
    "\n",
    "@app.route('/')\n",
    "def hello_world():\n",
    "    return 'Hello, World!'\n",
    "\n",
    "if __name__ == '__main__':\n",
    "    app.run(debug=True)"
   ]
  }
 ],
 "metadata": {
  "kernelspec": {
   "display_name": "Python 3 (ipykernel)",
   "language": "python",
   "name": "python3"
  },
  "language_info": {
   "codemirror_mode": {
    "name": "ipython",
    "version": 3
   },
   "file_extension": ".py",
   "mimetype": "text/x-python",
   "name": "python",
   "nbconvert_exporter": "python",
   "pygments_lexer": "ipython3",
   "version": "3.9.7"
  }
 },
 "nbformat": 4,
 "nbformat_minor": 2
}
