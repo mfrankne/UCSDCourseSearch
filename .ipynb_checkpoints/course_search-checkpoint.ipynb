{
 "cells": [
  {
   "cell_type": "code",
   "execution_count": 19,
   "id": "e53e20ca",
   "metadata": {},
   "outputs": [],
   "source": [
    "import time\n",
    "import json\n",
    "\n",
    "from FlagEmbedding import FlagModel\n",
    "\n",
    "import numpy as np\n",
    "import pandas as pd\n",
    "import heapq"
   ]
  },
  {
   "cell_type": "markdown",
   "id": "334a0b75",
   "metadata": {},
   "source": [
    "## Step 0: Read in the Data + Model"
   ]
  },
  {
   "cell_type": "code",
   "execution_count": 20,
   "id": "835ab3a7",
   "metadata": {},
   "outputs": [
    {
     "data": {
      "text/html": [
       "<div>\n",
       "<style scoped>\n",
       "    .dataframe tbody tr th:only-of-type {\n",
       "        vertical-align: middle;\n",
       "    }\n",
       "\n",
       "    .dataframe tbody tr th {\n",
       "        vertical-align: top;\n",
       "    }\n",
       "\n",
       "    .dataframe thead th {\n",
       "        text-align: right;\n",
       "    }\n",
       "</style>\n",
       "<table border=\"1\" class=\"dataframe\">\n",
       "  <thead>\n",
       "    <tr style=\"text-align: right;\">\n",
       "      <th></th>\n",
       "      <th>Code</th>\n",
       "      <th>Department</th>\n",
       "      <th>Title</th>\n",
       "      <th>Units</th>\n",
       "      <th>Description</th>\n",
       "      <th>Prerequisites</th>\n",
       "      <th>Level</th>\n",
       "      <th>URL</th>\n",
       "    </tr>\n",
       "  </thead>\n",
       "  <tbody>\n",
       "    <tr>\n",
       "      <th>0</th>\n",
       "      <td>AIP 97</td>\n",
       "      <td>AIP</td>\n",
       "      <td>Academic Internship</td>\n",
       "      <td>2, 4</td>\n",
       "      <td>Individual placements for field learning. Must...</td>\n",
       "      <td>lower-division standing, completion of thirty ...</td>\n",
       "      <td>Lower Division</td>\n",
       "      <td>https://cape.ucsd.edu/responses/Results.aspx?N...</td>\n",
       "    </tr>\n",
       "    <tr>\n",
       "      <th>1</th>\n",
       "      <td>AIP 197</td>\n",
       "      <td>AIP</td>\n",
       "      <td>Academic Internship Program</td>\n",
       "      <td>2, 4, 6, 8, 10, 12</td>\n",
       "      <td>Individual internship placements integrated wi...</td>\n",
       "      <td>upper-division standing; department approval.</td>\n",
       "      <td>Upper Division</td>\n",
       "      <td>https://cape.ucsd.edu/responses/Results.aspx?N...</td>\n",
       "    </tr>\n",
       "    <tr>\n",
       "      <th>2</th>\n",
       "      <td>AIP 197DC</td>\n",
       "      <td>AIP</td>\n",
       "      <td>UCDC: Washington, DC Internship</td>\n",
       "      <td>6, 8, 10</td>\n",
       "      <td>This internship is attached to the University ...</td>\n",
       "      <td>upper-division standing; department approval.</td>\n",
       "      <td>Upper Division</td>\n",
       "      <td>https://cape.ucsd.edu/responses/Results.aspx?N...</td>\n",
       "    </tr>\n",
       "    <tr>\n",
       "      <th>3</th>\n",
       "      <td>AIP 197P</td>\n",
       "      <td>AIP</td>\n",
       "      <td>Public Service Internship</td>\n",
       "      <td>4, 8, 12</td>\n",
       "      <td>Individual placements for field learning perfo...</td>\n",
       "      <td>ninety units completed; 2.5 minimum cumulative...</td>\n",
       "      <td>Upper Division</td>\n",
       "      <td>https://cape.ucsd.edu/responses/Results.aspx?N...</td>\n",
       "    </tr>\n",
       "    <tr>\n",
       "      <th>4</th>\n",
       "      <td>AIP 197T</td>\n",
       "      <td>AIP</td>\n",
       "      <td>Academic Internship Program—Special Programs</td>\n",
       "      <td>2</td>\n",
       "      <td>Individual placements for field learning assoc...</td>\n",
       "      <td>ninety units minimum completed; 2.5 minimum cu...</td>\n",
       "      <td>Upper Division</td>\n",
       "      <td>https://cape.ucsd.edu/responses/Results.aspx?N...</td>\n",
       "    </tr>\n",
       "    <tr>\n",
       "      <th>...</th>\n",
       "      <td>...</td>\n",
       "      <td>...</td>\n",
       "      <td>...</td>\n",
       "      <td>...</td>\n",
       "      <td>...</td>\n",
       "      <td>...</td>\n",
       "      <td>...</td>\n",
       "      <td>...</td>\n",
       "    </tr>\n",
       "    <tr>\n",
       "      <th>7164</th>\n",
       "      <td>WCWP 100</td>\n",
       "      <td>WCWP</td>\n",
       "      <td>Academic Writing</td>\n",
       "      <td>4</td>\n",
       "      <td>An upper-division workshop course in argumenta...</td>\n",
       "      <td>junior/senior standing and must be a Warren Co...</td>\n",
       "      <td>Upper Division</td>\n",
       "      <td>https://cape.ucsd.edu/responses/Results.aspx?N...</td>\n",
       "    </tr>\n",
       "    <tr>\n",
       "      <th>7165</th>\n",
       "      <td>WCWP 160</td>\n",
       "      <td>WCWP</td>\n",
       "      <td>Technical Writing for Scientists and Engineers</td>\n",
       "      <td>4</td>\n",
       "      <td>An upper-division workshop-style writing cours...</td>\n",
       "      <td>junior/senior standing.</td>\n",
       "      <td>Upper Division</td>\n",
       "      <td>https://cape.ucsd.edu/responses/Results.aspx?N...</td>\n",
       "    </tr>\n",
       "    <tr>\n",
       "      <th>7166</th>\n",
       "      <td>WARR 189</td>\n",
       "      <td>WARR</td>\n",
       "      <td>Academic Mentoring and the Writing Process</td>\n",
       "      <td>2</td>\n",
       "      <td>Students will gain a fundamental understanding...</td>\n",
       "      <td>permission of instructor is required to enroll.</td>\n",
       "      <td>Upper Division</td>\n",
       "      <td>https://cape.ucsd.edu/responses/Results.aspx?N...</td>\n",
       "    </tr>\n",
       "    <tr>\n",
       "      <th>7167</th>\n",
       "      <td>WCWP 198</td>\n",
       "      <td>WCWP</td>\n",
       "      <td>Group Study</td>\n",
       "      <td>2</td>\n",
       "      <td>A directed group study involving research and ...</td>\n",
       "      <td>none</td>\n",
       "      <td>Upper Division</td>\n",
       "      <td>https://cape.ucsd.edu/responses/Results.aspx?N...</td>\n",
       "    </tr>\n",
       "    <tr>\n",
       "      <th>7168</th>\n",
       "      <td>WCWP 500</td>\n",
       "      <td>WCWP</td>\n",
       "      <td>Apprentice Teaching in WCWP</td>\n",
       "      <td>2 or 4</td>\n",
       "      <td>Consideration of pedagogical methods appropria...</td>\n",
       "      <td>graduate standing.</td>\n",
       "      <td>Graduate</td>\n",
       "      <td>https://cape.ucsd.edu/responses/Results.aspx?N...</td>\n",
       "    </tr>\n",
       "  </tbody>\n",
       "</table>\n",
       "<p>7169 rows × 8 columns</p>\n",
       "</div>"
      ],
      "text/plain": [
       "           Code Department                                           Title  \\\n",
       "0        AIP 97        AIP                             Academic Internship   \n",
       "1       AIP 197        AIP                     Academic Internship Program   \n",
       "2     AIP 197DC        AIP                 UCDC: Washington, DC Internship   \n",
       "3      AIP 197P        AIP                       Public Service Internship   \n",
       "4      AIP 197T        AIP    Academic Internship Program—Special Programs   \n",
       "...         ...        ...                                             ...   \n",
       "7164   WCWP 100       WCWP                                Academic Writing   \n",
       "7165   WCWP 160       WCWP  Technical Writing for Scientists and Engineers   \n",
       "7166   WARR 189       WARR      Academic Mentoring and the Writing Process   \n",
       "7167   WCWP 198       WCWP                                     Group Study   \n",
       "7168   WCWP 500       WCWP                     Apprentice Teaching in WCWP   \n",
       "\n",
       "                   Units                                        Description  \\\n",
       "0                   2, 4  Individual placements for field learning. Must...   \n",
       "1     2, 4, 6, 8, 10, 12  Individual internship placements integrated wi...   \n",
       "2               6, 8, 10  This internship is attached to the University ...   \n",
       "3               4, 8, 12  Individual placements for field learning perfo...   \n",
       "4                      2  Individual placements for field learning assoc...   \n",
       "...                  ...                                                ...   \n",
       "7164                   4  An upper-division workshop course in argumenta...   \n",
       "7165                   4  An upper-division workshop-style writing cours...   \n",
       "7166                   2  Students will gain a fundamental understanding...   \n",
       "7167                   2  A directed group study involving research and ...   \n",
       "7168              2 or 4  Consideration of pedagogical methods appropria...   \n",
       "\n",
       "                                          Prerequisites           Level  \\\n",
       "0     lower-division standing, completion of thirty ...  Lower Division   \n",
       "1         upper-division standing; department approval.  Upper Division   \n",
       "2         upper-division standing; department approval.  Upper Division   \n",
       "3     ninety units completed; 2.5 minimum cumulative...  Upper Division   \n",
       "4     ninety units minimum completed; 2.5 minimum cu...  Upper Division   \n",
       "...                                                 ...             ...   \n",
       "7164  junior/senior standing and must be a Warren Co...  Upper Division   \n",
       "7165                            junior/senior standing.  Upper Division   \n",
       "7166    permission of instructor is required to enroll.  Upper Division   \n",
       "7167                                               none  Upper Division   \n",
       "7168                                 graduate standing.        Graduate   \n",
       "\n",
       "                                                    URL  \n",
       "0     https://cape.ucsd.edu/responses/Results.aspx?N...  \n",
       "1     https://cape.ucsd.edu/responses/Results.aspx?N...  \n",
       "2     https://cape.ucsd.edu/responses/Results.aspx?N...  \n",
       "3     https://cape.ucsd.edu/responses/Results.aspx?N...  \n",
       "4     https://cape.ucsd.edu/responses/Results.aspx?N...  \n",
       "...                                                 ...  \n",
       "7164  https://cape.ucsd.edu/responses/Results.aspx?N...  \n",
       "7165  https://cape.ucsd.edu/responses/Results.aspx?N...  \n",
       "7166  https://cape.ucsd.edu/responses/Results.aspx?N...  \n",
       "7167  https://cape.ucsd.edu/responses/Results.aspx?N...  \n",
       "7168  https://cape.ucsd.edu/responses/Results.aspx?N...  \n",
       "\n",
       "[7169 rows x 8 columns]"
      ]
     },
     "execution_count": 20,
     "metadata": {},
     "output_type": "execute_result"
    }
   ],
   "source": [
    "course_catalog = pd.read_csv('data/course_catalog.csv')\n",
    "course_catalog"
   ]
  },
  {
   "cell_type": "code",
   "execution_count": 21,
   "id": "2e657a34",
   "metadata": {},
   "outputs": [],
   "source": [
    "model = FlagModel('BAAI/bge-small-en-v1.5', \n",
    "                  query_instruction_for_retrieval=\"Represent this sentence for searching relevant passages: \",\n",
    "                  use_fp16=True) # Setting use_fp16 to True speeds up computation with a slight performance degradation"
   ]
  },
  {
   "cell_type": "markdown",
   "id": "392069c7",
   "metadata": {},
   "source": [
    "## Step 1: Load in the Document Embeddings"
   ]
  },
  {
   "cell_type": "code",
   "execution_count": 22,
   "id": "0633d759",
   "metadata": {},
   "outputs": [
    {
     "name": "stdout",
     "output_type": "stream",
     "text": [
      "Time taken to load in the document embeddings: 4.518217086791992 seconds\n"
     ]
    }
   ],
   "source": [
    "start = time.time()\n",
    "\n",
    "# read the json file from embeddings.json\n",
    "with open('data/embeddings.json', 'r') as json_file:\n",
    "    embeddings_dict = json.load(json_file)\n",
    "\n",
    "# convert each list value to a numpy array\n",
    "document_embeddings = []\n",
    "for key, value in embeddings_dict.items():\n",
    "    document_embeddings.append(np.array(value))\n",
    "end = time.time()\n",
    "\n",
    "print(\"Time taken to load in the document embeddings:\", end - start, \"seconds\")"
   ]
  },
  {
   "cell_type": "markdown",
   "id": "d6f46834",
   "metadata": {},
   "source": [
    "## Step 2: Implement the Search Function"
   ]
  },
  {
   "cell_type": "code",
   "execution_count": 23,
   "id": "2e1b7aaa",
   "metadata": {},
   "outputs": [],
   "source": [
    "def cosine_similarity(vec1, vec2):\n",
    "    \"\"\"\n",
    "    Computes the cosine similarity between two vectors\n",
    "    \"\"\"\n",
    "    return np.dot(vec1, vec2) / (np.linalg.norm(vec1) * np.linalg.norm(vec2))"
   ]
  },
  {
   "cell_type": "code",
   "execution_count": 24,
   "id": "1ee553a7",
   "metadata": {},
   "outputs": [],
   "source": [
    "def search(query, document_embeddings, data, k=10):\n",
    "    \"\"\"\n",
    "    Computes the embedding of the query and retrieves the k most similar documents\n",
    "    \"\"\"\n",
    "    # gets the embedding of the query\n",
    "    query_embedding = model.encode_queries(query)\n",
    "    \n",
    "    # get the similarities between the query embedding and the document embeddings\n",
    "    similarities = [cosine_similarity(query_embedding, doc_emb) for doc_emb in document_embeddings]\n",
    "    \n",
    "    # ranks similarities by most similar to query embedding\n",
    "    index_similarity_pair_ranked =  heapq.nlargest(k, enumerate(similarities), key=lambda x: x[1])\n",
    "    \n",
    "    \n",
    "    ranked_docs = []\n",
    "    for ind, sim in index_similarity_pair_ranked:\n",
    "        # don't include results that have similarity score < 0.7 unless it's the top result\n",
    "        if sim < 0.7 and ranked_docs: break\n",
    "        # grab the course code, the course title, and the similarity score\n",
    "        ranked_docs.append((data['Code'][ind], data['Title'][ind], sim))\n",
    "    \n",
    "    return ranked_docs"
   ]
  },
  {
   "cell_type": "markdown",
   "id": "a8e993c4",
   "metadata": {},
   "source": [
    "## Step 5: Testing the Search Engine"
   ]
  },
  {
   "cell_type": "code",
   "execution_count": 25,
   "id": "b0051ae0",
   "metadata": {},
   "outputs": [
    {
     "name": "stdout",
     "output_type": "stream",
     "text": [
      "Search time: 0.2977466583251953 seconds\n"
     ]
    },
    {
     "data": {
      "text/plain": [
       "[('MATH 20A', 'Calculus for Science and Engineering', 0.7832842117962404),\n",
       " ('ECON 205', 'Mathematics for Economists', 0.7626482329288281),\n",
       " ('MATH 10B', 'Calculus II', 0.7528032897528413),\n",
       " ('MATH 110',\n",
       "  'Introduction to Partial Differential Equations',\n",
       "  0.7497785873210528),\n",
       " ('MATH 142B', 'Introduction to Analysis II', 0.7473588667392784),\n",
       " ('MATH 142A', 'Introduction to Analysis I', 0.7442389243686187),\n",
       " ('MATH 2', 'Introduction to College Mathematics', 0.7438710212145163),\n",
       " ('MATH 157', 'Introduction to Mathematical Software', 0.7428268311673124),\n",
       " ('MATH 20D', 'Introduction to Differential Equations', 0.733033815941933),\n",
       " ('MATH 3C', 'Precalculus', 0.7189926278571934)]"
      ]
     },
     "execution_count": 25,
     "metadata": {},
     "output_type": "execute_result"
    }
   ],
   "source": [
    "start = time.time()\n",
    "query = \"introduction to calculus\"\n",
    "search_results = search(query, document_embeddings, course_catalog)\n",
    "end = time.time()\n",
    "print(\"Search time:\", end - start, \"seconds\")\n",
    "search_results"
   ]
  },
  {
   "cell_type": "code",
   "execution_count": 26,
   "id": "25a32163",
   "metadata": {},
   "outputs": [
    {
     "name": "stdout",
     "output_type": "stream",
     "text": [
      "Search time: 0.28283238410949707 seconds\n"
     ]
    },
    {
     "data": {
      "text/plain": [
       "[('MATH 121B',\n",
       "  'Foundations of Teaching and Learning Math II',\n",
       "  0.8085485859532091),\n",
       " ('MATH 95', 'Introduction to Teaching Math', 0.8016646074818957),\n",
       " ('MATH 121A',\n",
       "  'Foundations of Teaching and Learning Mathematics I',\n",
       "  0.7859315320956897),\n",
       " ('EDS 385',\n",
       "  'Elementary School Mathematics Content and Pedagogy',\n",
       "  0.7844682042940657),\n",
       " ('EDS 355A',\n",
       "  'Advanced Mathematics Teaching Practices for Grades K–6',\n",
       "  0.7837348291015898),\n",
       " ('MATH 153', 'Geometry for Secondary Teachers', 0.780271389980039),\n",
       " ('EDS 355C',\n",
       "  'Advanced Mathematics Teaching Practices for Grades K–6',\n",
       "  0.7797543303701058),\n",
       " ('EDS 355B',\n",
       "  'Advanced Mathematics Teaching Practices for Grades K–6',\n",
       "  0.7767898435785789),\n",
       " ('MATH 195', 'Introduction to Teaching in Mathematics', 0.7741549747766477),\n",
       " ('ERC 89', 'Practicum in Math Tutoring', 0.7677124335475961)]"
      ]
     },
     "execution_count": 26,
     "metadata": {},
     "output_type": "execute_result"
    }
   ],
   "source": [
    "start = time.time()\n",
    "query = \"teaching math\"\n",
    "search_results = search(query, document_embeddings, course_catalog)\n",
    "end = time.time()\n",
    "print(\"Search time:\", end - start, \"seconds\")\n",
    "search_results"
   ]
  },
  {
   "cell_type": "code",
   "execution_count": 27,
   "id": "6bb03b9b",
   "metadata": {},
   "outputs": [
    {
     "name": "stdout",
     "output_type": "stream",
     "text": [
      "Search time: 0.2775764465332031 seconds\n"
     ]
    },
    {
     "data": {
      "text/plain": [
       "[('LIGN 280', 'Sign Language Research', 0.8278859710201408),\n",
       " ('LISL 1DX', 'Analysis of American Sign Language', 0.8014108293821758),\n",
       " ('LISL 1D', 'American Sign Language Conversation', 0.7970519462669414),\n",
       " ('LIGN 7', 'Sign Languages and Their Cultures', 0.7918134424969009),\n",
       " ('LIGN 148',\n",
       "  'The Psycholinguistics of Gesture and Sign Languages',\n",
       "  0.7851199425436874),\n",
       " ('LIGN 9GS',\n",
       "  'Sign Languages and Deaf Culture in the U.S. and France',\n",
       "  0.7784987300522903),\n",
       " ('LIGN 149GS',\n",
       "  'The Historical Roots of American Sign Language',\n",
       "  0.7701106309739947),\n",
       " ('LISL 1C', 'American Sign Language Conversation', 0.7691383649360072),\n",
       " ('LISL 1A', 'American Sign Language Conversation', 0.766016865189545),\n",
       " ('LISL 1B', 'American Sign Language Conversation', 0.7656975301384012)]"
      ]
     },
     "execution_count": 27,
     "metadata": {},
     "output_type": "execute_result"
    }
   ],
   "source": [
    "start = time.time()\n",
    "query = \"sign language\"\n",
    "search_results = search(query, document_embeddings, course_catalog)\n",
    "end = time.time()\n",
    "print(\"Search time:\", end - start, \"seconds\")\n",
    "search_results"
   ]
  },
  {
   "cell_type": "code",
   "execution_count": 55,
   "id": "f131f59a",
   "metadata": {},
   "outputs": [
    {
     "name": "stdout",
     "output_type": "stream",
     "text": [
      "Search time: 0.3049123287200928 seconds\n"
     ]
    },
    {
     "data": {
      "text/plain": [
       "[('POLI 205', 'Game Theory II', 0.8247931416708111),\n",
       " ('ECON 109', 'Game Theory', 0.8216064827458682),\n",
       " ('POLI 204C', 'Game Theory 1', 0.8152783308984616),\n",
       " ('ECON 208', 'Games and Information', 0.8053477098285355),\n",
       " ('ECON 262', 'Behavioral Game Theory', 0.799163933023045),\n",
       " ('POLI 118', 'Game Theory in Political Science', 0.7956325252473994),\n",
       " ('POLI 100U', 'Games, Strategy, and Politics', 0.7929239361498983),\n",
       " ('POLI 203B', 'Analytic Theory II', 0.7928832951901142),\n",
       " ('POLI 203A', 'Analytic Theory I', 0.7921769822333592),\n",
       " ('ECON 109T', 'Advanced Topics in Game Theory', 0.7758552177322635),\n",
       " ('POLI 211', 'Formal Models in Political Theory', 0.7438693373688868),\n",
       " ('POLI 247B', 'Formal Models in International Relations', 0.735367437196154),\n",
       " ('ECON 172A', 'Operations Research A', 0.7316542465841428),\n",
       " ('ECON 263', 'Modeling Behavioral Economics', 0.7311616775825396),\n",
       " ('ECON 204', 'Contract Theory', 0.7300957865136254),\n",
       " ('ECON 200C', 'Microeconomics C', 0.7216346724246007),\n",
       " ('COGR 239', 'Computer Game Studies', 0.7056775386274312),\n",
       " ('POLI 112A', 'Economic Theories of Political Behavior', 0.7022102601692541),\n",
       " ('ECON 202A', 'Workshop in Economic Theory', 0.7003108892742529),\n",
       " ('ECON 202B', 'Workshop in Economic Theory', 0.7003108892742529),\n",
       " ('ECON 202C', 'Workshop in Economic Theory', 0.7003108892742529)]"
      ]
     },
     "execution_count": 55,
     "metadata": {},
     "output_type": "execute_result"
    }
   ],
   "source": [
    "start = time.time()\n",
    "query = \"game theory\"\n",
    "search_results = search(query, document_embeddings, course_catalog, 25)\n",
    "end = time.time()\n",
    "print(\"Search time:\", end - start, \"seconds\")\n",
    "search_results"
   ]
  },
  {
   "cell_type": "code",
   "execution_count": null,
   "id": "4d3b3bc4",
   "metadata": {},
   "outputs": [],
   "source": []
  }
 ],
 "metadata": {
  "kernelspec": {
   "display_name": "Python 3 (ipykernel)",
   "language": "python",
   "name": "python3"
  },
  "language_info": {
   "codemirror_mode": {
    "name": "ipython",
    "version": 3
   },
   "file_extension": ".py",
   "mimetype": "text/x-python",
   "name": "python",
   "nbconvert_exporter": "python",
   "pygments_lexer": "ipython3",
   "version": "3.9.7"
  }
 },
 "nbformat": 4,
 "nbformat_minor": 5
}
